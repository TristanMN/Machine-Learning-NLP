{
 "cells": [
  {
   "cell_type": "code",
   "execution_count": 167,
   "id": "18dff1dc-e7b4-43c6-a7f0-281263a4adb8",
   "metadata": {},
   "outputs": [],
   "source": [
    "# https://www.kaggle.com/shivamkushwaha/bbc-full-text-document-classification\n",
    "#!wget -nc https://lazyprogrammer.me/course_files/nlp/bbc_text_cls.csv"
   ]
  },
  {
   "cell_type": "code",
   "execution_count": 168,
   "id": "472f9bc5-864d-4b09-b5a9-232d1a2cc013",
   "metadata": {},
   "outputs": [],
   "source": [
    "import pandas as pd\n",
    "import numpy as np\n",
    "import nltk\n",
    "\n",
    "from nltk import word_tokenize"
   ]
  },
  {
   "cell_type": "code",
   "execution_count": 169,
   "id": "7bb450a6-fc53-4a7b-8f4d-32d8c4203881",
   "metadata": {},
   "outputs": [],
   "source": [
    "#nltk.download('punkt')"
   ]
  },
  {
   "cell_type": "code",
   "execution_count": 170,
   "id": "33b18cda-a410-498d-af78-c4c9b209f023",
   "metadata": {},
   "outputs": [],
   "source": [
    "df = pd.read_csv('bbc_text_cls.csv')"
   ]
  },
  {
   "cell_type": "code",
   "execution_count": 171,
   "id": "e941d318-58e9-4da9-810c-a606c7c97d94",
   "metadata": {},
   "outputs": [
    {
     "data": {
      "text/html": [
       "<div>\n",
       "<style scoped>\n",
       "    .dataframe tbody tr th:only-of-type {\n",
       "        vertical-align: middle;\n",
       "    }\n",
       "\n",
       "    .dataframe tbody tr th {\n",
       "        vertical-align: top;\n",
       "    }\n",
       "\n",
       "    .dataframe thead th {\n",
       "        text-align: right;\n",
       "    }\n",
       "</style>\n",
       "<table border=\"1\" class=\"dataframe\">\n",
       "  <thead>\n",
       "    <tr style=\"text-align: right;\">\n",
       "      <th></th>\n",
       "      <th>text</th>\n",
       "      <th>labels</th>\n",
       "    </tr>\n",
       "  </thead>\n",
       "  <tbody>\n",
       "    <tr>\n",
       "      <th>0</th>\n",
       "      <td>Ad sales boost Time Warner profit\\n\\nQuarterly...</td>\n",
       "      <td>business</td>\n",
       "    </tr>\n",
       "    <tr>\n",
       "      <th>1</th>\n",
       "      <td>Dollar gains on Greenspan speech\\n\\nThe dollar...</td>\n",
       "      <td>business</td>\n",
       "    </tr>\n",
       "    <tr>\n",
       "      <th>2</th>\n",
       "      <td>Yukos unit buyer faces loan claim\\n\\nThe owner...</td>\n",
       "      <td>business</td>\n",
       "    </tr>\n",
       "    <tr>\n",
       "      <th>3</th>\n",
       "      <td>High fuel prices hit BA's profits\\n\\nBritish A...</td>\n",
       "      <td>business</td>\n",
       "    </tr>\n",
       "    <tr>\n",
       "      <th>4</th>\n",
       "      <td>Pernod takeover talk lifts Domecq\\n\\nShares in...</td>\n",
       "      <td>business</td>\n",
       "    </tr>\n",
       "  </tbody>\n",
       "</table>\n",
       "</div>"
      ],
      "text/plain": [
       "                                                text    labels\n",
       "0  Ad sales boost Time Warner profit\\n\\nQuarterly...  business\n",
       "1  Dollar gains on Greenspan speech\\n\\nThe dollar...  business\n",
       "2  Yukos unit buyer faces loan claim\\n\\nThe owner...  business\n",
       "3  High fuel prices hit BA's profits\\n\\nBritish A...  business\n",
       "4  Pernod takeover talk lifts Domecq\\n\\nShares in...  business"
      ]
     },
     "execution_count": 171,
     "metadata": {},
     "output_type": "execute_result"
    }
   ],
   "source": [
    "df.head()"
   ]
  },
  {
   "cell_type": "code",
   "execution_count": 172,
   "id": "3a9a4fe5-1e96-43b5-839d-e333f3dad1ac",
   "metadata": {},
   "outputs": [
    {
     "data": {
      "text/plain": [
       "array(['business', 'entertainment', 'politics', 'sport', 'tech'],\n",
       "      dtype=object)"
      ]
     },
     "execution_count": 172,
     "metadata": {},
     "output_type": "execute_result"
    }
   ],
   "source": [
    "pd.unique(df[\"labels\"])"
   ]
  },
  {
   "cell_type": "code",
   "execution_count": 173,
   "id": "049d9006-a83d-4807-b71a-2ccdf247e9ed",
   "metadata": {},
   "outputs": [],
   "source": [
    "idx = 0\n",
    "word2idx = {}\n",
    "tokenized_docs = []\n",
    "for doc in df['text']:\n",
    "  words = word_tokenize(doc.lower())\n",
    "  doc_as_int = []\n",
    "  for word in words:\n",
    "    if word not in word2idx:\n",
    "      word2idx[word] = idx\n",
    "      idx += 1\n",
    "\n",
    "    doc_as_int.append(word2idx[word])\n",
    "  tokenized_docs.append(doc_as_int)"
   ]
  },
  {
   "cell_type": "code",
   "execution_count": 174,
   "id": "b6738add-9c09-4ce8-b65d-d2a1ba51895f",
   "metadata": {},
   "outputs": [],
   "source": [
    "# reverse mapping\n",
    "# if you do it smarter you can store it as a list\n",
    "#idx2word = {v:k for k, v in word2idx.items()}\n",
    "idx2word = [v for v, n in word2idx.items()]"
   ]
  },
  {
   "cell_type": "code",
   "execution_count": 175,
   "id": "b46938a2-7378-4d23-a2a3-571554ac371c",
   "metadata": {},
   "outputs": [],
   "source": [
    "# number of documents\n",
    "N = len(df['text'])"
   ]
  },
  {
   "cell_type": "code",
   "execution_count": 176,
   "id": "9274c1d1-4f3a-45c0-b838-9f13e70e58d0",
   "metadata": {},
   "outputs": [],
   "source": [
    "# number of words\n",
    "V = len(word2idx)"
   ]
  },
  {
   "cell_type": "code",
   "execution_count": 177,
   "id": "e87ff978-e6fd-4695-9984-e6688629f20d",
   "metadata": {},
   "outputs": [
    {
     "data": {
      "text/plain": [
       "(2225, 34762)"
      ]
     },
     "execution_count": 177,
     "metadata": {},
     "output_type": "execute_result"
    }
   ],
   "source": [
    "tf = np.zeros((N, V))\n",
    "tf.shape"
   ]
  },
  {
   "cell_type": "code",
   "execution_count": 178,
   "id": "92933626-b560-4c65-a0b7-0a5ec2149d54",
   "metadata": {},
   "outputs": [],
   "source": [
    "for i, doc_as_int in enumerate(tokenized_docs):\n",
    "  for j in doc_as_int:\n",
    "    tf[i, j] += 1"
   ]
  },
  {
   "cell_type": "code",
   "execution_count": 179,
   "id": "0852a63d-ff3f-412a-905f-85425908e71d",
   "metadata": {},
   "outputs": [],
   "source": [
    "# compute IDF\n",
    "document_freq = np.sum(tf > 0, axis=0) # document frequency (shape = (V,))\n",
    "idf = np.log(N / document_freq)"
   ]
  },
  {
   "cell_type": "code",
   "execution_count": 180,
   "id": "bed3d5d5-1c0d-4ac4-bd99-50061922a6b1",
   "metadata": {},
   "outputs": [],
   "source": [
    "tf_idf = tf * idf\n",
    "np.random.seed(123)"
   ]
  },
  {
   "cell_type": "code",
   "execution_count": 181,
   "id": "740da521-0cc5-4f9a-8167-efc249ff2b8d",
   "metadata": {},
   "outputs": [
    {
     "name": "stdout",
     "output_type": "stream",
     "text": [
      "Label: sport\n",
      "Text: Athens memories soar above lows\n",
      "Top 5 terms:\n",
      "paula\n",
      "athens\n",
      "1500m\n",
      "her\n",
      "kelly\n",
      "race\n",
      "i\n",
      "marathon\n",
      "thing\n",
      "athletics\n"
     ]
    }
   ],
   "source": [
    "# pick a random document, show the top 5 terms (in terms of tf_idf score)\n",
    "i = np.random.choice(N)\n",
    "row = df.iloc[i]\n",
    "print(\"Label:\", row['labels'])\n",
    "print(\"Text:\", row['text'].split(\"\\n\", 1)[0])\n",
    "print(\"Top 5 terms:\")\n",
    "\n",
    "scores = tf_idf[i]\n",
    "indices = (-scores).argsort()\n",
    "\n",
    "for j in indices[:10]:\n",
    "  print(idx2word[j])"
   ]
  },
  {
   "cell_type": "code",
   "execution_count": 182,
   "id": "97b974f1-28bc-4f65-935b-63c8236d1e80",
   "metadata": {},
   "outputs": [
    {
     "name": "stdout",
     "output_type": "stream",
     "text": [
      "disposal\n",
      "molina\n",
      "articulated\n",
      "soften\n",
      "publicist\n",
      "darker\n",
      "confounded\n",
      "bosom\n",
      "characterised\n",
      "zeitgeist\n"
     ]
    },
    {
     "data": {
      "image/png": "[encoded data removed]",
      "text/plain": [
       "<Figure size 640x480 with 1 Axes>"
      ]
     },
     "metadata": {},
     "output_type": "display_data"
    }
   ],
   "source": [
    "# Exercise: use CountVectorizer to form the counts instead\n",
    "# Exercise (hard): use Scipy's csr_matrix instead\n",
    "# You cannot use X[i, j] += 1 here\n",
    "\n",
    "from sklearn.model_selection import train_test_split\n",
    "from sklearn.feature_extraction.text import CountVectorizer\n",
    "from sklearn.naive_bayes import MultinomialNB\n",
    "import matplotlib.pyplot as plt\n",
    "from scipy.sparse import csr_matrix\n",
    "\n",
    "inputs = df['text']\n",
    "labels = df['labels']\n",
    "inputs_train, inputs_test, Ytrain, Ytest = train_test_split(inputs, labels)\n",
    "Xtrain = vectorizer.fit_transform(inputs_train)\n",
    "Xtest = vectorizer.transform(inputs_test)\n",
    "vectorizer = CountVectorizer(stop_words = \"english\")\n",
    "model = MultinomialNB()\n",
    "model.fit(Xtrain, Ytrain)\n",
    "scores = Xtrain[i]\n",
    "scores = scores.toarray()\n",
    "scores = scores.flatten()\n",
    "indices = (-scores).argsort()\n",
    "for j in indices[:10]:\n",
    "  print(idx2word[j])\n",
    "plt.plot(indices);"
   ]
  },
  {
   "cell_type": "code",
   "execution_count": 183,
   "id": "f96f902c-0d9a-44a3-a8ff-80dd2a212bae",
   "metadata": {},
   "outputs": [
    {
     "name": "stdout",
     "output_type": "stream",
     "text": [
      "disposal\n",
      "molina\n",
      "articulated\n",
      "soften\n",
      "publicist\n",
      "darker\n",
      "confounded\n",
      "bosom\n",
      "characterised\n",
      "zeitgeist\n"
     ]
    },
    {
     "data": {
      "image/png": "[encoded data removed]",
      "text/plain": [
       "<Figure size 640x480 with 1 Axes>"
      ]
     },
     "metadata": {},
     "output_type": "display_data"
    }
   ],
   "source": [
    "scores = csr_matrix(Xtrain[i]).toarray()\n",
    "scores = scores.flatten()\n",
    "indices = (-scores).argsort()\n",
    "for j in indices[:10]:\n",
    "  print(idx2word[j])\n",
    "plt.plot(indices);"
   ]
  },
  {
   "cell_type": "code",
   "execution_count": null,
   "id": "4ad7233a-deef-4fd0-aa91-5a6d45f47375",
   "metadata": {},
   "outputs": [],
   "source": []
  }
 ],
 "metadata": {
  "kernelspec": {
   "display_name": "Python 3 (ipykernel)",
   "language": "python",
   "name": "python3"
  },
  "language_info": {
   "codemirror_mode": {
    "name": "ipython",
    "version": 3
   },
   "file_extension": ".py",
   "mimetype": "text/x-python",
   "name": "python",
   "nbconvert_exporter": "python",
   "pygments_lexer": "ipython3",
   "version": "3.11.1"
  }
 },
 "nbformat": 4,
 "nbformat_minor": 5
}
